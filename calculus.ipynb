{
 "cells": [
  {
   "cell_type": "markdown",
   "metadata": {},
   "source": [
    "# Differences between numerical and symbolic computations"
   ]
  },
  {
   "cell_type": "markdown",
   "metadata": {},
   "source": [
    "## Symbolic computations"
   ]
  },
  {
   "cell_type": "markdown",
   "metadata": {},
   "source": [
    "They deal with mathematical symbols, expressions and formulas without assigned values. "
   ]
  },
  {
   "cell_type": "markdown",
   "metadata": {},
   "source": [
    "### Aim"
   ]
  },
  {
   "cell_type": "markdown",
   "metadata": {},
   "source": [
    "Essential symbolic computing's aim is to covert the formula to the \"best\" form. What is best, may differ depending on the goal of computations.\n",
    "This means that the symbolic computing is all about evaluating the formula. After evaluation we can just plug in the numbers and have the **exact** answer "
   ]
  },
  {
   "cell_type": "markdown",
   "metadata": {},
   "source": [
    "Polynomial form:\n",
    "\n",
    "$$(x+6)^2=x^2+12x+36$$"
   ]
  },
  {
   "cell_type": "markdown",
   "metadata": {},
   "source": [
    "Shortened formula:\n",
    "\n",
    "$$\\sum_{i=0}^\\infty \\frac{1}{i!}x^i=e^x$$"
   ]
  },
  {
   "cell_type": "markdown",
   "metadata": {},
   "source": [
    "## Numerical computations"
   ]
  },
  {
   "cell_type": "markdown",
   "metadata": {},
   "source": [
    "Plugging in values and computing each operation in the formula, approximating every gotten result."
   ]
  },
  {
   "cell_type": "markdown",
   "metadata": {},
   "source": [
    "### Basic difference:\n",
    "\n",
    "$a=1\\\\\n",
    "b=3$\n",
    "\n",
    "Let's see how those computation methods differ for the same input:\n",
    "\n",
    "$$\\dfrac{a}{b} \\cdot b$$\n",
    "\n",
    "Symbolic:\n",
    "$\\dfrac{a}{b} \\cdot b=a=1$\n",
    "\n",
    "Numerical:\n",
    "$\\dfrac{a}{b} \\cdot b=\\dfrac{1}{3} \\cdot 3=0.3333333333 \\cdot 3=0.9999999999$"
   ]
  },
  {
   "cell_type": "markdown",
   "metadata": {},
   "source": [
    "## Operations"
   ]
  },
  {
   "cell_type": "markdown",
   "metadata": {},
   "source": [
    "### Differentiation"
   ]
  },
  {
   "cell_type": "markdown",
   "metadata": {},
   "source": [
    "Definition of derivative:\n",
    "$$\\frac{\\partial y}{\\partial x}=\\lim_{h \\to 0}\\dfrac{f(x+h)-f(x)}{h}$$"
   ]
  },
  {
   "cell_type": "markdown",
   "metadata": {},
   "source": [
    "#### Numerical"
   ]
  },
  {
   "cell_type": "markdown",
   "metadata": {},
   "source": [
    "For numerical computations we would try plugging very small $h$ (the smaller the value, the better approximation), but in case of symbolic computations we would use differentiations formulas to shorten the formula, and then the values would be plugged in."
   ]
  },
  {
   "cell_type": "code",
   "execution_count": 36,
   "metadata": {
    "scrolled": true
   },
   "outputs": [
    {
     "data": {
      "image/png": "[encoded data removed]",
      "text/plain": [
       "<Figure size 432x288 with 1 Axes>"
      ]
     },
     "metadata": {
      "needs_background": "light"
     },
     "output_type": "display_data"
    }
   ],
   "source": [
    "import matplotlib.pyplot as plt\n",
    "import numpy as np\n",
    "x=np.r_[0:10:100j]\n",
    "y=x*x\n",
    "dx=np.r_[6:8:20j]\n",
    "dy=np.repeat(36,20)\n",
    "plt.plot(x,y,'r-',label='$x^2$')\n",
    "plt.plot(dx,dy,'b-',label='$h$')\n",
    "plt.axvline(x=8,ymin=37/100,ymax=63/100,color='green',label='$f(x+h)-f(x)$')\n",
    "plt.legend()\n",
    "plt.show()"
   ]
  },
  {
   "cell_type": "markdown",
   "metadata": {},
   "source": [
    "for $f(x)=x^2$:\n",
    "\n",
    "$$\\dfrac{f(x+h)-f(x)}{h}=2x+h$$"
   ]
  },
  {
   "cell_type": "markdown",
   "metadata": {},
   "source": [
    "#### Symbolic"
   ]
  },
  {
   "cell_type": "markdown",
   "metadata": {},
   "source": [
    "In case of symbolic computations no approximation is needed. We would only use already given formulas.\n",
    "\n",
    "$$\\frac{\\partial y}{\\partial x}=\\frac{\\partial}{\\partial x}x^2=2x$$\n",
    "\n",
    "and now let's plug $x=6$\n",
    "\n",
    "$$2x=12$$\n",
    "\n",
    "Python has SymPy library with included symbolic calculations"
   ]
  },
  {
   "cell_type": "code",
   "execution_count": 37,
   "metadata": {},
   "outputs": [
    {
     "data": {
      "image/png": "[encoded data removed]",
      "text/latex": [
       "$$2 x$$"
      ],
      "text/plain": [
       "2⋅x"
      ]
     },
     "execution_count": 37,
     "metadata": {},
     "output_type": "execute_result"
    }
   ],
   "source": [
    "from sympy import*\n",
    "x,y,z=symbols('x,y,z')\n",
    "init_printing(use_unicode=True)\n",
    "diff(x**2,x)"
   ]
  },
  {
   "cell_type": "markdown",
   "metadata": {},
   "source": [
    "#### Results"
   ]
  },
  {
   "cell_type": "markdown",
   "metadata": {},
   "source": [
    "Symbolic formula doesn't expect any approximations because it uses formally proven equations, and by using numerical methods we get approximated result."
   ]
  },
  {
   "cell_type": "markdown",
   "metadata": {},
   "source": [
    "### Integration"
   ]
  },
  {
   "cell_type": "markdown",
   "metadata": {},
   "source": [
    "$$\\int_{0}^{5}e^x+x^2 dx$$"
   ]
  },
  {
   "cell_type": "markdown",
   "metadata": {},
   "source": [
    "#### Symbolic"
   ]
  },
  {
   "cell_type": "markdown",
   "metadata": {},
   "source": [
    "$$\\int_{0}^{5}e^x+x^2 dx=e^x+\\frac{x^3}{3}\\Biggr|_{0}^{5}=(e^5+5^2)-(e^0+0^2)$$"
   ]
  },
  {
   "cell_type": "code",
   "execution_count": 38,
   "metadata": {},
   "outputs": [
    {
     "data": {
      "image/png": "[encoded data removed]",
      "text/latex": [
       "$$189.079825769243$$"
      ],
      "text/plain": [
       "189.079825769243"
      ]
     },
     "execution_count": 38,
     "metadata": {},
     "output_type": "execute_result"
    }
   ],
   "source": [
    "x = Symbol('x')\n",
    "integrate(np.e**x+x**2, (x, 0, 5))"
   ]
  },
  {
   "cell_type": "markdown",
   "metadata": {},
   "source": [
    "#### Nummerical (only definite)"
   ]
  },
  {
   "cell_type": "markdown",
   "metadata": {},
   "source": [
    "Most iconic numerical way to calculate integral is the \"rectangle\" method. Integral of function $f(x)$ is equal to area under function's graph. So drawing is possible way to approximate integral."
   ]
  },
  {
   "cell_type": "code",
   "execution_count": 39,
   "metadata": {},
   "outputs": [
    {
     "data": {
      "image/png": "[encoded data removed]",
      "text/plain": [
       "<Figure size 432x288 with 1 Axes>"
      ]
     },
     "metadata": {
      "needs_background": "light"
     },
     "output_type": "display_data"
    },
    {
     "name": "stdout",
     "output_type": "stream",
     "text": [
      "approximated result for 10 rectangles:\n"
     ]
    },
    {
     "data": {
      "image/png": "[encoded data removed]",
      "text/latex": [
       "$$149.2432562223387$$"
      ],
      "text/plain": [
       "149.2432562223387"
      ]
     },
     "execution_count": 39,
     "metadata": {},
     "output_type": "execute_result"
    }
   ],
   "source": [
    "#graph\n",
    "x=np.r_[0:5:100j]\n",
    "y=np.e**x+x**2\n",
    "plt.plot(x,y,'r-',label='$e^x+x^2$')\n",
    "for i in range(10):\n",
    "    plt.axvline(x=i/2,ymin=0,ymax=(np.e**(i/2)+(i/2)**2+5)/173,color='black')\n",
    "    plt.axvline(x=(i+1)/2,ymin=0,ymax=(np.e**(i/2)+(i/2)**2+5)/173,color='black')\n",
    "    plt.axvspan(i/2,(i+1)/2,(np.e**(i/2)+(i/2)**2+5)/173,(np.e**(i/2)+(i/2)**2+5)/173,color='black')\n",
    "plt.legend()\n",
    "plt.show()\n",
    "\n",
    "#approximated area\n",
    "A=0\n",
    "for i in range(10):\n",
    "    A+=0.5*(np.e**(i/2)+(i/2)**2)\n",
    "print('approximated result for 10 rectangles:')\n",
    "A"
   ]
  },
  {
   "cell_type": "markdown",
   "metadata": {},
   "source": [
    "#### Summary"
   ]
  },
  {
   "cell_type": "markdown",
   "metadata": {},
   "source": [
    "Deviation from actual result is $\\dfrac{189.079825769243-149.2432562223387}{189.079825769243}\\approx 21\\%$"
   ]
  },
  {
   "cell_type": "markdown",
   "metadata": {},
   "source": [
    "### PDE's"
   ]
  },
  {
   "cell_type": "markdown",
   "metadata": {},
   "source": [
    "#### Introduction"
   ]
  },
  {
   "cell_type": "markdown",
   "metadata": {},
   "source": [
    "Partially differential equations contain multivariable functions and their partial derivatives.<br>\n",
    "PDE's can describe many phenomenas, like electrodynamics, quantum mechanics, heat, gravitation or sound."
   ]
  },
  {
   "cell_type": "markdown",
   "metadata": {},
   "source": [
    "#### partial derivative\n",
    "Let's have function $z=f(x,y)$ <br>\n",
    "The partial derivative in point $(x_0,y_0)$ would be:<br><br>\n",
    "With respect to $x$: $\\dfrac{\\partial z}{\\partial x}=\\lim_{\\Delta x \\to 0} \\dfrac{f(x_0+\\Delta x,y_0)-f(x_0,y_0)}{\\Delta x}$<br><br>\n",
    "With respect to $y$: $\\dfrac{\\partial z}{\\partial y}=\\lim_{\\Delta y \\to 0} \\dfrac{f(x_0,y_0+\\Delta y)-f(x_0,y_0)}{\\Delta y}$"
   ]
  },
  {
   "cell_type": "markdown",
   "metadata": {},
   "source": [
    "### ODE's"
   ]
  },
  {
   "cell_type": "markdown",
   "metadata": {},
   "source": [
    "#### Introduction"
   ]
  },
  {
   "cell_type": "markdown",
   "metadata": {},
   "source": [
    "Ordinary differential equation is special case of Partially differential equation. It is containing functions and derivatives of functions, with **only one** independent variable.<br>\n",
    "There are ways to calculate ODE symbolically, but in many cases there is no analytical solution and we are left with numerical ones like \"Runge-Kutta methods\" or \"Euler's method\"."
   ]
  },
  {
   "cell_type": "markdown",
   "metadata": {},
   "source": [
    "#### example of analytical solution"
   ]
  },
  {
   "cell_type": "markdown",
   "metadata": {},
   "source": [
    "$(1+x)\\cdot y''(x)=y'(x)$\n",
    "\n",
    "let's assume $p=y'$:\n",
    "\n",
    "$$(1+x)\\cdot\\dfrac{\\partial p}{\\partial x}=p\\\\\n",
    "\\dfrac{\\partial p}{p}=\\dfrac{\\partial x}{1+x}\\\\\n",
    "\\ln p=\\ln(1+x)+\\ln C\\\\\n",
    "p=C(x+1)\\\\\n",
    "\\dfrac{\\partial y}{\\partial x}=C+Cx\\\\\n",
    "y=\\int (C+Cx) \\partial x\\\\\n",
    "y=\\frac{1}{2}Cx^2+Cx+C_1$$"
   ]
  },
  {
   "cell_type": "markdown",
   "metadata": {},
   "source": [
    "#### Euler's method - numerical solution"
   ]
  },
  {
   "cell_type": "markdown",
   "metadata": {},
   "source": [
    "This approximation can be used while on ODE if we have the starting conditions - the exact value of the function at some point $(x_0,y_0)$, and the formula is presented in this form\n",
    "$$\\dfrac{\\partial y}{\\partial x}=f(x,y)$$\n",
    "<br>\n",
    "Then: $$y_{i+1}=y_{i}+h \\cdot f(x_i,y_i)$$\n",
    "<br>\n",
    "where $h$ is step size, and $$\\dfrac{\\partial y_i}{\\partial x_i}\\approx \\dfrac{y_{i+1}-y_i}{x_{i+1}-x_i}$$"
   ]
  },
  {
   "cell_type": "markdown",
   "metadata": {},
   "source": [
    "This method is recurrencial, this means tha when you want to get $y(i)$ you have to make $i/h$ steps with step $h=\\Delta x$.<br> Let's visualize this on example:"
   ]
  },
  {
   "cell_type": "markdown",
   "metadata": {},
   "source": [
    "\n",
    "$$\\left\\{ \\begin{array}{ll}\n",
    "\\dfrac{\\partial y}{\\partial x}=-1.2y+7e^{-0.3x}\\\\\n",
    "y(0)=3\n",
    "\\end{array} \\right.$$\n",
    "<br>\n",
    "The real solution is:\n",
    "$$y=\\dfrac{70}{9}e^{-0.3x}-\\dfrac{43}{9}e^{-1.2x}$$\n",
    "<br>\n",
    "Let's see how the Euler's method perform for these data:\n",
    "$$0 \\le x \\le 3\\\\\n",
    "h=0.5$$"
   ]
  },
  {
   "cell_type": "code",
   "execution_count": 97,
   "metadata": {
    "scrolled": true
   },
   "outputs": [
    {
     "data": {
      "image/png": "[encoded data removed]",
      "text/plain": [
       "<Figure size 432x288 with 1 Axes>"
      ]
     },
     "metadata": {
      "needs_background": "light"
     },
     "output_type": "display_data"
    }
   ],
   "source": [
    "h=1/2\n",
    "x=np.r_[0:3:100j]\n",
    "y=((70/9)*np.e**(-0.3*x)-(43/9)*np.e**(-1.2*x))\n",
    "plt.plot(x,y,'r-',label='actual y')\n",
    "ypred=np.zeros(7)\n",
    "ypred[0]=3\n",
    "for i in range(7)[1::]:\n",
    "    ypred[i]=ypred[i-1]+h*(-1.2*ypred[i-1]+7*np.e**(-0.3*x[(i-1)*16]))\n",
    "plt.plot(x[::16],ypred,'b.',label='predicted y')\n",
    "plt.legend()\n",
    "plt.show()"
   ]
  }
 ],
 "metadata": {
  "kernelspec": {
   "display_name": "Python 3",
   "language": "python",
   "name": "python3"
  },
  "language_info": {
   "codemirror_mode": {
    "name": "ipython",
    "version": 3
   },
   "file_extension": ".py",
   "mimetype": "text/x-python",
   "name": "python",
   "nbconvert_exporter": "python",
   "pygments_lexer": "ipython3",
   "version": "3.7.3"
  }
 },
 "nbformat": 4,
 "nbformat_minor": 2
}
